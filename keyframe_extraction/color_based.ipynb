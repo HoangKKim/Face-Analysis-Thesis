{
 "cells": [
  {
   "cell_type": "markdown",
   "metadata": {},
   "source": [
    "<h1 style = \"text-align: center\"> <b>Method 1: Color-based Technique</b></h1> "
   ]
  },
  {
   "cell_type": "markdown",
   "metadata": {},
   "source": [
    "## **1. Libraries**"
   ]
  },
  {
   "cell_type": "code",
   "execution_count": 1,
   "metadata": {
    "executionInfo": {
     "elapsed": 284,
     "status": "ok",
     "timestamp": 1733477177280,
     "user": {
      "displayName": "Kim Vo",
      "userId": "01237964602743293063"
     },
     "user_tz": -420
    },
    "id": "0gbfHo21Gd8s"
   },
   "outputs": [],
   "source": [
    "import matplotlib.pyplot as plt\n",
    "import cv2\n",
    "import numpy as np"
   ]
  },
  {
   "cell_type": "markdown",
   "metadata": {},
   "source": [
    "## **2. Read video**"
   ]
  },
  {
   "cell_type": "code",
   "execution_count": 24,
   "metadata": {
    "colab": {
     "base_uri": "https://localhost:8080/"
    },
    "executionInfo": {
     "elapsed": 22224,
     "status": "ok",
     "timestamp": 1733480059701,
     "user": {
      "displayName": "Kim Vo",
      "userId": "01237964602743293063"
     },
     "user_tz": -420
    },
    "id": "S-4sV4WwG8f1",
    "outputId": "7266cd28-7a66-4031-dc76-a73be8958bc1"
   },
   "outputs": [
    {
     "name": "stdout",
     "output_type": "stream",
     "text": [
      "Total frames: 256\n"
     ]
    }
   ],
   "source": [
    "# read video\n",
    "video_path = \"/content/classroom_video.mp4\"\n",
    "video = cv2.VideoCapture(video_path)\n",
    "video_frames = []\n",
    "\n",
    "if not video.isOpened():\n",
    "  print(\"Cannot open the video\")\n",
    "\n",
    "while True:\n",
    "  ret, frame = video.read()\n",
    "  if not ret:\n",
    "    break\n",
    "  video_frames.append(frame)\n",
    "video.release()\n",
    "\n",
    "print(f\"Total frames: {len(video_frames)}\")\n",
    "\n"
   ]
  },
  {
   "cell_type": "markdown",
   "metadata": {},
   "source": [
    "## **3. Color-based technique**"
   ]
  },
  {
   "cell_type": "code",
   "execution_count": null,
   "metadata": {
    "colab": {
     "base_uri": "https://localhost:8080/"
    },
    "executionInfo": {
     "elapsed": 3,
     "status": "ok",
     "timestamp": 1733480208923,
     "user": {
      "displayName": "Kim Vo",
      "userId": "01237964602743293063"
     },
     "user_tz": -420
    },
    "id": "L-G95SNIZ5cJ",
    "outputId": "849b8a0e-ceab-4aed-9a0b-907fe1a90217"
   },
   "outputs": [
    {
     "data": {
      "text/plain": [
       "(25,\n",
       " array([  7,  14,  22,  30,  39,  60,  70,  75,  81,  94, 100, 105, 110,\n",
       "        121, 141, 150, 157, 163, 180, 186, 190, 217, 227, 237, 243]))"
      ]
     },
     "execution_count": 27,
     "metadata": {},
     "output_type": "execute_result"
    }
   ],
   "source": [
    "def extractByPixel(frames):\n",
    "  def compute_diff_frames(frame1, frame2):\n",
    "    # convert to HSV\n",
    "    frame1_hsv = cv2.cvtColor(frame1, cv2.COLOR_BGR2HSV)\n",
    "    frame2_hsv = cv2.cvtColor(frame2, cv2.COLOR_BGR2HSV)\n",
    "\n",
    "    # compute difference\n",
    "    diff = np.abs(frame1_hsv - frame2_hsv)\n",
    "\n",
    "    return np.sum(diff)\n",
    "\n",
    "  def isGreater(a, b):\n",
    "    return a>b\n",
    "\n",
    "  def boolrelextrema(data,\n",
    "                      comparator,\n",
    "                      axis=0,\n",
    "                      order=1,\n",
    "                      mode='clip'):\n",
    "\n",
    "    if((not isinstance(order, int)) or (order < 1)):\n",
    "      raise ValueError('Order must be an int >= 1')\n",
    "\n",
    "    # get length of the array\n",
    "    data = np.array(data)\n",
    "    data_len = data.shape[axis]\n",
    "    locs = np.arange(0, data_len)\n",
    "\n",
    "    # create an array with all values set to True and its size = data_len\n",
    "    results = np.ones(data_len, dtype=bool)\n",
    "    main = data.take(locs, axis = axis, mode = mode)\n",
    "\n",
    "    # Iterate over each shift from 1 to order (inclusive)\n",
    "    for shift in range(1, order+1):\n",
    "      plus = data.take(locs + shift, axis = axis, mode = mode)\n",
    "      minus = data.take(locs - shift, axis = axis, mode = mode)\n",
    "\n",
    "      results &= comparator(main, plus)\n",
    "      results &= comparator(main, minus)\n",
    "\n",
    "      if ~results.any():\n",
    "        return results\n",
    "\n",
    "    return results\n",
    "\n",
    "  def argrelextrema(data,\n",
    "                    comparator,\n",
    "                    axis=0,\n",
    "                    order=1,\n",
    "                    mode='clip'):\n",
    "\n",
    "\n",
    "    results = boolrelextrema(data, comparator, axis, order, mode)\n",
    "    # print(results)\n",
    "    return np.where(results)[0]\n",
    "\n",
    "  import numpy as np\n",
    "\n",
    "  def smooth(x, len_slide_window, type_window=\"hanning\"):\n",
    "      x = np.array(x)\n",
    "      if x.ndim != 1:\n",
    "          raise ValueError(\"smooth only accepts 1 dimension arrays.\")\n",
    "      if x.size < len_slide_window:\n",
    "          raise ValueError(\"Input vector needs to be bigger than window size.\")\n",
    "      if len_slide_window < 3:\n",
    "          return x\n",
    "\n",
    "      if type_window not in [\"flat\", \"hanning\", \"hamming\", \"bartlett\", \"blackman\"]:\n",
    "          raise ValueError(\n",
    "              \"Smoothing Window must be one of 'flat', 'hanning', 'hamming', 'bartlett', 'blackman'\"\n",
    "          )\n",
    "\n",
    "      # Extend the signal at the boundaries\n",
    "      s = np.r_[\n",
    "          2 * x[0] - x[len_slide_window:1:-1],\n",
    "          x,\n",
    "          2 * x[-1] - x[-1:-len_slide_window:-1],\n",
    "      ]\n",
    "\n",
    "      # Define the window\n",
    "      if type_window == \"flat\":\n",
    "          w = np.ones(len_slide_window, \"d\")\n",
    "      else:\n",
    "          w = getattr(np, type_window)(len_slide_window)\n",
    "\n",
    "      # Convolve the signal with the window\n",
    "      y = np.convolve(w / w.sum(), s, mode=\"same\")\n",
    "      return y[len_slide_window - 1 : -len_slide_window + 1]\n",
    "\n",
    "  diff_frames = []\n",
    "  for i in range(1, len(frames)) :\n",
    "    diff_frames.append(compute_diff_frames(frames[i-1], frames[i]))\n",
    "\n",
    "  smoothed_diff = smooth(diff_frames, 10, 'hanning')\n",
    "\n",
    "  return argrelextrema(smoothed_diff, isGreater)\n"
   ]
  },
  {
   "cell_type": "markdown",
   "metadata": {},
   "source": [
    "## **4. Test technique**"
   ]
  },
  {
   "cell_type": "code",
   "execution_count": null,
   "metadata": {},
   "outputs": [],
   "source": [
    "keyframes_byPixel = extractByPixel(video_frames)\n",
    "len(keyframes_byPixel), keyframes_byPixel"
   ]
  }
 ],
 "metadata": {
  "colab": {
   "authorship_tag": "ABX9TyOCiWK45Dg+vTTeuAK9R8Fh",
   "provenance": [],
   "toc_visible": true
  },
  "kernelspec": {
   "display_name": "Python 3",
   "name": "python3"
  },
  "language_info": {
   "name": "python"
  }
 },
 "nbformat": 4,
 "nbformat_minor": 0
}
